{
 "cells": [
  {
   "cell_type": "markdown",
   "source": [
    "# First Order Logic"
   ],
   "metadata": {
    "collapsed": false,
    "id": "x7knW7ffdYqY"
   }
  },
  {
   "cell_type": "markdown",
   "source": [
    "# Libraries"
   ],
   "metadata": {
    "collapsed": false,
    "id": "MqcP3FjudYqa"
   }
  },
  {
   "cell_type": "code",
   "execution_count": 1,
   "outputs": [
    {
     "name": "stdout",
     "output_type": "stream",
     "text": [
      "pygame 2.1.3 (SDL 2.0.22, Python 3.11.10)\n",
      "Hello from the pygame community. https://www.pygame.org/contribute.html\n"
     ]
    }
   ],
   "source": [
    "import pygame\n",
    "import numpy as np\n",
    "import copy\n",
    "from pyswip import Prolog"
   ],
   "metadata": {
    "id": "pG3Ud4uedYqa",
    "ExecuteTime": {
     "end_time": "2025-01-13T11:49:17.947439700Z",
     "start_time": "2025-01-13T11:49:17.430182800Z"
    }
   }
  },
  {
   "cell_type": "markdown",
   "source": [
    "# Environment Theme\n",
    "#### Don't Change this part"
   ],
   "metadata": {
    "collapsed": false,
    "id": "37QDFmZtdYqb"
   }
  },
  {
   "cell_type": "code",
   "execution_count": 2,
   "outputs": [],
   "source": [
    "GRID_SIZE = 8\n",
    "TILE_SIZE = 100\n",
    "background = (106, 70, 205)"
   ],
   "metadata": {
    "id": "UK_EGrtCdYqb",
    "ExecuteTime": {
     "end_time": "2025-01-13T11:49:20.436765500Z",
     "start_time": "2025-01-13T11:49:20.430249Z"
    }
   }
  },
  {
   "cell_type": "markdown",
   "source": [
    "# Environment\n",
    "#### Don't Change this part"
   ],
   "metadata": {
    "collapsed": false,
    "id": "-s7qoNDKdYqc"
   }
  },
  {
   "cell_type": "code",
   "execution_count": 3,
   "outputs": [],
   "source": [
    "class PygameInit:\n",
    "\n",
    "    @classmethod\n",
    "    def initialization(cls):\n",
    "        grid_size_x = GRID_SIZE\n",
    "        grid_size_y = GRID_SIZE\n",
    "        tile_size = TILE_SIZE\n",
    "\n",
    "        pygame.init()\n",
    "        screen = pygame.display.set_mode((grid_size_x * tile_size, grid_size_y * tile_size))\n",
    "        pygame.display.set_caption(\"FOL\")\n",
    "        clock = pygame.time.Clock()\n",
    "\n",
    "        return screen, clock\n",
    "\n",
    "class FirstOrderAngry:\n",
    "    def __init__(self, template: str):\n",
    "        self.__grid_size = GRID_SIZE\n",
    "        self.__tile_size = TILE_SIZE\n",
    "        self.__template_name = template\n",
    "\n",
    "        self.__base_grid = self.__generate_grid()\n",
    "        self.grid = copy.deepcopy(self.__base_grid)\n",
    "        self.__base_grid = copy.deepcopy(self.grid)\n",
    "\n",
    "        self.__bird_image = pygame.image.load('Env/icons/angry-birds.png')\n",
    "        self.__bird_image = pygame.transform.scale(self.__bird_image, (self.__tile_size, self.__tile_size))\n",
    "        self.__bird_with_background = pygame.Surface((self.__tile_size, self.__tile_size))\n",
    "        self.__bird_with_background.fill(background)\n",
    "        self.__bird_with_background.blit(self.__bird_image, (0, 0))\n",
    "\n",
    "        self.__pig_image = pygame.image.load('Env/icons/pigs.png')\n",
    "        self.__pig_image = pygame.transform.scale(self.__pig_image, (self.__tile_size, self.__tile_size))\n",
    "        self.__pig_with_background = pygame.Surface((self.__tile_size, self.__tile_size))\n",
    "        self.__pig_with_background.fill(background)\n",
    "        self.__pig_with_background.blit(self.__pig_image, (0, 0))\n",
    "\n",
    "        self.__rock_image = pygame.image.load('Env/icons/rocks.png')\n",
    "        self.__rock_image = pygame.transform.scale(self.__rock_image, (self.__tile_size, self.__tile_size))\n",
    "        self.__rock_with_background = pygame.Surface((self.__tile_size, self.__tile_size))\n",
    "        self.__rock_with_background.fill(background)\n",
    "        self.__rock_with_background.blit(self.__rock_image, (0, 0))\n",
    "\n",
    "\n",
    "    def __generate_grid(self):\n",
    "        grid = [['T' for _ in range(self.__grid_size)] for _ in range(self.__grid_size)]\n",
    "\n",
    "        with open(f'Env/templates/{self.__template_name}.txt') as file:\n",
    "            template_str = file.readlines()\n",
    "\n",
    "        for i in range(self.__grid_size):\n",
    "            for j in range(self.__grid_size):\n",
    "                grid[i][j] = template_str[i][j]\n",
    "\n",
    "        return grid\n",
    "\n",
    "    def reset(self):\n",
    "        self.grid = copy.deepcopy(self.__base_grid)\n",
    "\n",
    "    def bird_step(self, action):\n",
    "        bird_pos = self.get_bird_position()\n",
    "        actions = {\n",
    "            0: (-1, 0),  # Up\n",
    "            1: (1, 0),   # Down\n",
    "            2: (0, -1),  # Left\n",
    "            3: (0, 1)    # Right\n",
    "        }\n",
    "\n",
    "        dx, dy = actions[action]\n",
    "        new_row, new_col = bird_pos[0] + dx, bird_pos[1] + dy\n",
    "\n",
    "        if self.__is_valid_for_bird_position(self.grid, new_row, new_col):\n",
    "            self.grid[bird_pos[0]][bird_pos[1]] = 'T'\n",
    "            bird_pos = (new_row, new_col)\n",
    "            self.grid[bird_pos[0]][bird_pos[1]] = 'B'\n",
    "\n",
    "        is_win = self.is_win()\n",
    "        return bird_pos, is_win\n",
    "\n",
    "\n",
    "    def get_bird_position(self):\n",
    "        for r in range(len(self.grid)):\n",
    "            for c in range(len(self.grid)):\n",
    "                if self.grid[r][c] == 'B':\n",
    "                    return tuple([r, c])\n",
    "\n",
    "\n",
    "    def is_win(self):\n",
    "        for r in range(len(self.grid)):\n",
    "            for c in range(len(self.grid)):\n",
    "                if self.grid[r][c] == 'P':\n",
    "                    return False\n",
    "        return True\n",
    "\n",
    "\n",
    "    def render(self, screen):\n",
    "        for r in range(self.__grid_size):\n",
    "            for c in range(self.__grid_size):\n",
    "                color = background\n",
    "                pygame.draw.rect(screen, color, (c * self.__tile_size, r * self.__tile_size, self.__tile_size,\n",
    "                                                 self.__tile_size))\n",
    "                if self.grid[r][c] == 'B':\n",
    "                    screen.blit(self.__bird_with_background, (c * self.__tile_size, r * self.__tile_size))\n",
    "\n",
    "                if self.grid[r][c] == 'R':\n",
    "                    screen.blit(self.__rock_with_background, (c * self.__tile_size, r * self.__tile_size))\n",
    "\n",
    "                if self.grid[r][c] == 'P':\n",
    "                    screen.blit(self.__pig_with_background, (c * self.__tile_size, r * self.__tile_size))\n",
    "\n",
    "        for r in range(self.__grid_size + 1):\n",
    "            pygame.draw.line(screen, (0, 0, 0), (0, r * self.__tile_size), (self.__grid_size * self.__tile_size,\n",
    "                                                                            r * self.__tile_size), 2)\n",
    "        for c in range(self.__grid_size + 1):\n",
    "            pygame.draw.line(screen, (0, 0, 0), (c * self.__tile_size, 0), (c * self.__tile_size,\n",
    "                                                                            self.__grid_size * self.__tile_size), 2)\n",
    "\n",
    "    @classmethod\n",
    "    def __is_valid_for_bird_position(cls, grid, new_row, new_col):\n",
    "        return (0 <= new_row < len(grid)\n",
    "                and 0 <= new_col < len(grid)\n",
    "                and grid[new_row][new_col] != 'R')"
   ],
   "metadata": {
    "id": "Je7CRZQ9dYqc",
    "ExecuteTime": {
     "end_time": "2025-01-13T11:49:21.574922200Z",
     "start_time": "2025-01-13T11:49:21.558886400Z"
    }
   }
  },
  {
   "cell_type": "markdown",
   "source": [
    "# Knowledge base"
   ],
   "metadata": {
    "collapsed": false,
    "id": "kLJVR7crdYqd"
   }
  },
  {
   "cell_type": "code",
   "execution_count": 4,
   "outputs": [
    {
     "ename": "PrologError",
     "evalue": "Caused by: 'consult('x.pl')'. Returned: 'error(existence_error(source_sink, x.pl), _1158)'.",
     "output_type": "error",
     "traceback": [
      "\u001B[1;31m---------------------------------------------------------------------------\u001B[0m",
      "\u001B[1;31mPrologError\u001B[0m                               Traceback (most recent call last)",
      "Cell \u001B[1;32mIn[4], line 2\u001B[0m\n\u001B[0;32m      1\u001B[0m prolog \u001B[38;5;241m=\u001B[39m Prolog()\n\u001B[1;32m----> 2\u001B[0m \u001B[43mprolog\u001B[49m\u001B[38;5;241;43m.\u001B[39;49m\u001B[43mconsult\u001B[49m\u001B[43m(\u001B[49m\u001B[38;5;124;43m\"\u001B[39;49m\u001B[38;5;124;43mx.pl\u001B[39;49m\u001B[38;5;124;43m\"\u001B[39;49m\u001B[43m)\u001B[49m\n",
      "File \u001B[1;32mC:\\ProgramData\\anaconda3\\envs\\gymenv\\Lib\\site-packages\\pyswip\\prolog.py:393\u001B[0m, in \u001B[0;36mProlog.consult\u001B[1;34m(cls, path, catcherrors, relative_to)\u001B[0m\n\u001B[0;32m    362\u001B[0m \u001B[38;5;250m\u001B[39m\u001B[38;5;124;03m\"\"\"\u001B[39;00m\n\u001B[0;32m    363\u001B[0m \u001B[38;5;124;03mReads the given Prolog source file\u001B[39;00m\n\u001B[0;32m    364\u001B[0m \n\u001B[1;32m   (...)\u001B[0m\n\u001B[0;32m    390\u001B[0m \u001B[38;5;124;03m:param relative_to: The path where the consulted file is relative to\u001B[39;00m\n\u001B[0;32m    391\u001B[0m \u001B[38;5;124;03m\"\"\"\u001B[39;00m\n\u001B[0;32m    392\u001B[0m path \u001B[38;5;241m=\u001B[39m resolve_path(path, relative_to)\n\u001B[1;32m--> 393\u001B[0m \u001B[38;5;28;43mnext\u001B[39;49m\u001B[43m(\u001B[49m\u001B[38;5;28;43mcls\u001B[39;49m\u001B[38;5;241;43m.\u001B[39;49m\u001B[43mquery\u001B[49m\u001B[43m(\u001B[49m\u001B[38;5;28;43mstr\u001B[39;49m\u001B[43m(\u001B[49m\u001B[43mpath\u001B[49m\u001B[43m)\u001B[49m\u001B[38;5;241;43m.\u001B[39;49m\u001B[43mjoin\u001B[49m\u001B[43m(\u001B[49m\u001B[43m[\u001B[49m\u001B[38;5;124;43m\"\u001B[39;49m\u001B[38;5;124;43mconsult(\u001B[39;49m\u001B[38;5;124;43m'\u001B[39;49m\u001B[38;5;124;43m\"\u001B[39;49m\u001B[43m,\u001B[49m\u001B[43m \u001B[49m\u001B[38;5;124;43m\"\u001B[39;49m\u001B[38;5;124;43m'\u001B[39;49m\u001B[38;5;124;43m)\u001B[39;49m\u001B[38;5;124;43m\"\u001B[39;49m\u001B[43m]\u001B[49m\u001B[43m)\u001B[49m\u001B[43m,\u001B[49m\u001B[43m \u001B[49m\u001B[43mcatcherrors\u001B[49m\u001B[38;5;241;43m=\u001B[39;49m\u001B[43mcatcherrors\u001B[49m\u001B[43m)\u001B[49m\u001B[43m)\u001B[49m\n",
      "File \u001B[1;32mC:\\ProgramData\\anaconda3\\envs\\gymenv\\Lib\\site-packages\\pyswip\\prolog.py:171\u001B[0m, in \u001B[0;36mProlog._QueryWrapper.__call__\u001B[1;34m(self, query, maxresult, catcherrors, normalize)\u001B[0m\n\u001B[0;32m    168\u001B[0m     \u001B[38;5;28;01mif\u001B[39;00m PL_exception(swipl_qid):\n\u001B[0;32m    169\u001B[0m         term \u001B[38;5;241m=\u001B[39m getTerm(PL_exception(swipl_qid))\n\u001B[1;32m--> 171\u001B[0m         \u001B[38;5;28;01mraise\u001B[39;00m PrologError(\n\u001B[0;32m    172\u001B[0m             \u001B[38;5;124m\"\u001B[39m\u001B[38;5;124m\"\u001B[39m\u001B[38;5;241m.\u001B[39mjoin(\n\u001B[0;32m    173\u001B[0m                 [\n\u001B[0;32m    174\u001B[0m                     \u001B[38;5;124m\"\u001B[39m\u001B[38;5;124mCaused by: \u001B[39m\u001B[38;5;124m'\u001B[39m\u001B[38;5;124m\"\u001B[39m,\n\u001B[0;32m    175\u001B[0m                     query,\n\u001B[0;32m    176\u001B[0m                     \u001B[38;5;124m\"\u001B[39m\u001B[38;5;124m'\u001B[39m\u001B[38;5;124m. \u001B[39m\u001B[38;5;124m\"\u001B[39m,\n\u001B[0;32m    177\u001B[0m                     \u001B[38;5;124m\"\u001B[39m\u001B[38;5;124mReturned: \u001B[39m\u001B[38;5;124m'\u001B[39m\u001B[38;5;124m\"\u001B[39m,\n\u001B[0;32m    178\u001B[0m                     \u001B[38;5;28mstr\u001B[39m(term),\n\u001B[0;32m    179\u001B[0m                     \u001B[38;5;124m\"\u001B[39m\u001B[38;5;124m'\u001B[39m\u001B[38;5;124m.\u001B[39m\u001B[38;5;124m\"\u001B[39m,\n\u001B[0;32m    180\u001B[0m                 ]\n\u001B[0;32m    181\u001B[0m             )\n\u001B[0;32m    182\u001B[0m         )\n\u001B[0;32m    184\u001B[0m \u001B[38;5;28;01mfinally\u001B[39;00m:  \u001B[38;5;66;03m# This ensures that, whatever happens, we close the query\u001B[39;00m\n\u001B[0;32m    185\u001B[0m     PL_cut_query(swipl_qid)\n",
      "\u001B[1;31mPrologError\u001B[0m: Caused by: 'consult('x.pl')'. Returned: 'error(existence_error(source_sink, x.pl), _1158)'."
     ]
    }
   ],
   "source": [
    "prolog = Prolog()\n",
    "prolog.consult(\"x.pl\")"
   ],
   "metadata": {
    "id": "EZGCqAogdYqd",
    "outputId": "7dec7b19-146a-4bda-bb92-d37ab6266c6d",
    "ExecuteTime": {
     "end_time": "2025-01-13T11:49:22.936566Z",
     "start_time": "2025-01-13T11:49:22.683356400Z"
    }
   }
  },
  {
   "cell_type": "markdown",
   "source": [
    "# Game"
   ],
   "metadata": {
    "collapsed": false,
    "id": "zX4W0qrcdYqd"
   }
  },
  {
   "cell_type": "code",
   "execution_count": 5,
   "outputs": [
    {
     "name": "stdout",
     "output_type": "stream",
     "text": [
      "Win\n"
     ]
    }
   ],
   "source": [
    "env = FirstOrderAngry(template='simple')\n",
    "\n",
    "screen, clock = PygameInit.initialization()\n",
    "FPS = 8\n",
    "\n",
    "env.reset()\n",
    "\n",
    "running = True\n",
    "while running:\n",
    "\n",
    "    for event in pygame.event.get():\n",
    "        if event.type == pygame.QUIT:\n",
    "            pygame.quit()\n",
    "\n",
    "    # select actions based on the extracted path\n",
    "    action = np.random.choice([0, 1, 2, 3])\n",
    "    bird_pos, is_win = env.bird_step(action)\n",
    "    env.render(screen)\n",
    "    if  is_win:\n",
    "        print(f'Win')\n",
    "        running = False\n",
    "\n",
    "    pygame.display.flip()\n",
    "    clock.tick(FPS)\n",
    "\n",
    "pygame.quit()"
   ],
   "metadata": {
    "id": "m2DALNGadYqe",
    "outputId": "e4f2bfe2-2aa9-4ba3-dd6c-e2c903c0e8fd",
    "ExecuteTime": {
     "end_time": "2025-01-13T11:50:54.092568800Z",
     "start_time": "2025-01-13T11:49:25.357692100Z"
    }
   }
  }
 ],
 "metadata": {
  "kernelspec": {
   "display_name": "Python 3",
   "language": "python",
   "name": "python3"
  },
  "language_info": {
   "codemirror_mode": {
    "name": "ipython",
    "version": 2
   },
   "file_extension": ".py",
   "mimetype": "text/x-python",
   "name": "python",
   "nbconvert_exporter": "python",
   "pygments_lexer": "ipython2",
   "version": "2.7.6"
  },
  "colab": {
   "provenance": []
  }
 },
 "nbformat": 4,
 "nbformat_minor": 0
}
